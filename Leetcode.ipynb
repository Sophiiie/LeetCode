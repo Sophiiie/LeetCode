{
 "cells": [
  {
   "cell_type": "code",
   "execution_count": 170,
   "metadata": {},
   "outputs": [],
   "source": [
    "# s = \"abcabcaa\"\n",
    "# Input: s = \"pwwkew\"\n",
    "# Output: 3 (wke)\n",
    "\n",
    "def lengthOfLongestSubstring(s):\n",
    "    \"\"\"\n",
    "    :type s: str\n",
    "    :rtype: int\n",
    "    \"\"\"\n",
    "    string = \"\"\n",
    "    max_len = 0\n",
    "    for char in s:\n",
    "        if char in string:\n",
    "            max_len = max(len(string), max_len)\n",
    "            string = string[string.index(char)+1:]\n",
    "        string += char\n",
    "    return max(max_len, len(string))"
   ]
  },
  {
   "cell_type": "code",
   "execution_count": 226,
   "metadata": {},
   "outputs": [],
   "source": [
    "def searchInsert(nums, target):\n",
    "    if target in nums:\n",
    "        return nums.index(target)\n",
    "    \n",
    "    elif nums[0] > target:\n",
    "        return 0\n",
    "    \n",
    "    elif nums[len(nums)-1] < target:\n",
    "        return len(nums)\n",
    "\n",
    "    else:\n",
    "        start = 1\n",
    "        end = len(nums)\n",
    "\n",
    "        while start <= end:\n",
    "            mid = (start+end) // 2\n",
    "            if target < nums[mid]:\n",
    "                end = mid - 1\n",
    "            else:\n",
    "                start = mid + 1\n",
    "\n",
    "        return start"
   ]
  },
  {
   "cell_type": "code",
   "execution_count": 247,
   "metadata": {},
   "outputs": [
    {
     "name": "stdout",
     "output_type": "stream",
     "text": [
      "2.5\n"
     ]
    }
   ],
   "source": [
    "#median of two sorted array\n",
    "\n",
    "a = [1,2]\n",
    "b = [3,4]\n",
    "\n",
    "\n",
    "try:\n",
    "    c= sorted(a+b)\n",
    "    if len(c) == 1:\n",
    "        print(float(c[0]))\n",
    "    elif len(c)%2 == 0:\n",
    "        idx = int(len(c)/2)\n",
    "        median = (c[idx] + c[idx-1])/2\n",
    "        print(median)\n",
    "    else:\n",
    "        median = len(c)//2+1\n",
    "        print(median)\n",
    "except:\n",
    "    print(\"\")"
   ]
  },
  {
   "cell_type": "code",
   "execution_count": 292,
   "metadata": {},
   "outputs": [
    {
     "name": "stdout",
     "output_type": "stream",
     "text": [
      "bb\n"
     ]
    }
   ],
   "source": [
    "s = \"cbbd\"\n",
    "string = \"\"\n",
    "max_len = 0\n",
    "palin = \"\"\n",
    "for char in s:\n",
    "\n",
    "    if char in string:\n",
    "        string += char\n",
    "        string = string[string.index(char):]\n",
    "        if len(string) >= max_len:\n",
    "            palin = \"\"\n",
    "            palin += string\n",
    "            max_len = len(string)\n",
    "    else:\n",
    "        string += char\n",
    "        \n",
    "\n",
    "if len(palin)==0:\n",
    "    print(string[0])\n",
    "else:\n",
    "    print(palin)"
   ]
  },
  {
   "cell_type": "code",
   "execution_count": 264,
   "metadata": {},
   "outputs": [],
   "source": [
    "palin = \"\""
   ]
  },
  {
   "cell_type": "code",
   "execution_count": null,
   "metadata": {},
   "outputs": [],
   "source": [
    "c, string='c'\n",
    "b, string = 'cb'\n",
    "b, string = 'cbb', string = 'bb', len(string)=2>0, palin = \"bb\", max_len = 2\n",
    "d, string = 'bbd'"
   ]
  },
  {
   "cell_type": "code",
   "execution_count": null,
   "metadata": {},
   "outputs": [],
   "source": [
    "b, string = \"b\"\n",
    "a, string = \"ba\"\n",
    "b, len(string)+1=3 > 0, string = \"bab\",palin = \"bab\" max_len = 3, string = 'ab'\n",
    "a, len(string)+1 = 3=3, string = \"aba\", palin = \"aba\", max_len = 3, string = 'ba'\n",
    "d, string = 'bad'\n"
   ]
  },
  {
   "cell_type": "code",
   "execution_count": 320,
   "metadata": {},
   "outputs": [],
   "source": [
    "def isPalin(string):\n",
    "    if string == string[::-1]:\n",
    "        return True\n",
    "    else:\n",
    "        return False"
   ]
  },
  {
   "cell_type": "code",
   "execution_count": 322,
   "metadata": {},
   "outputs": [
    {
     "name": "stdout",
     "output_type": "stream",
     "text": [
      "[0, 1, 3, 7, 9, 10]\n",
      "[2, 8]\n",
      "[4]\n",
      "[6]\n",
      "[5]\n"
     ]
    }
   ],
   "source": [
    "s = 'aacabdkacaa'\n",
    "find_all = lambda c,s: [x for x in range(c.find(s), len(c)) if c[x] == s]\n",
    "max_len = 0\n",
    "loc = []\n",
    "for char in set(s):\n",
    "    pos = find_all(s,char)\n",
    "    print(pos)\n",
    "#     if not len(pos) <= 1:\n",
    "#         pos_len = max(pos) - min(pos) + 1\n",
    "#         if pos_len > max_len:\n",
    "#             max_len = pos_len\n",
    "#             loc = pos\n",
    "\n",
    "# if len(loc)<2:\n",
    "#     print(s[0])\n",
    "# else:\n",
    "#     string = s[min(loc):max(loc)+1]\n",
    "#     print(string)"
   ]
  },
  {
   "cell_type": "code",
   "execution_count": 321,
   "metadata": {},
   "outputs": [
    {
     "data": {
      "text/plain": [
       "True"
      ]
     },
     "execution_count": 321,
     "metadata": {},
     "output_type": "execute_result"
    }
   ],
   "source": [
    "isPalin(\"abba\")"
   ]
  },
  {
   "cell_type": "code",
   "execution_count": null,
   "metadata": {},
   "outputs": [],
   "source": []
  }
 ],
 "metadata": {
  "kernelspec": {
   "display_name": "Python 3",
   "language": "python",
   "name": "python3"
  },
  "language_info": {
   "codemirror_mode": {
    "name": "ipython",
    "version": 3
   },
   "file_extension": ".py",
   "mimetype": "text/x-python",
   "name": "python",
   "nbconvert_exporter": "python",
   "pygments_lexer": "ipython3",
   "version": "3.6.5"
  }
 },
 "nbformat": 4,
 "nbformat_minor": 2
}
